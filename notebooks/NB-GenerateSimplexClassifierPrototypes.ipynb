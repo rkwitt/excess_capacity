{
 "cells": [
  {
   "cell_type": "markdown",
   "id": "ba0d436e",
   "metadata": {},
   "source": [
    "## On Measuring Excess Capacity in Neural Networks\n",
    "\n",
    "Florian Graf, Sebastian Zeng, Bastian Rieck, Marc Niethammer and Roland Kwitt\n",
    "\n",
    "### Generate Simplex Classifier Prototypes\n",
    "\n",
    "This notebook can be used to generate prototype weights for the SimplexClassifier."
   ]
  },
  {
   "cell_type": "code",
   "execution_count": null,
   "id": "19b57ce9",
   "metadata": {},
   "outputs": [],
   "source": [
    "%matplotlib inline\n",
    "\n",
    "import matplotlib.pyplot as plt\n",
    "from mpl_toolkits import mplot3d\n",
    "\n",
    "import os\n",
    "import copy\n",
    "import math\n",
    "import numpy as np\n",
    "from itertools import islice\n",
    "from collections import defaultdict\n",
    "\n",
    "import torch\n",
    "import torch.nn as nn\n",
    "import torch.nn.functional as F\n",
    "from torch.optim import SGD, Adam\n",
    "from torch.optim.lr_scheduler import CosineAnnealingLR\n",
    "\n",
    "from torch.nn.utils import clip_grad_norm_\n",
    "\n",
    "colors = ['tab:blue', \n",
    "          'tab:green',\n",
    "          'tab:red']\n",
    "\n",
    "DEVICE='cuda:0'"
   ]
  },
  {
   "cell_type": "markdown",
   "id": "2fc606f9",
   "metadata": {},
   "source": [
    "The two main parameters are the **number of classes** (`NUM_CLASSES`) and the **output dimensionality** of the layer right before the classifier (`OUT_DIM`)."
   ]
  },
  {
   "cell_type": "code",
   "execution_count": 12,
   "id": "3c4e5531",
   "metadata": {},
   "outputs": [],
   "source": [
    "NUM_CLASSES = 10\n",
    "OUT_DIM = 128\n",
    "PROTOTYPE_DIR = '/tmp'"
   ]
  },
  {
   "cell_type": "markdown",
   "id": "35bd6f06",
   "metadata": {},
   "source": [
    "Essentially, we seek to distribute `NUM_CLASSES` prototypes on the (`OUT_DIM`-1) unit sphere such that they form the vertices of a regular simplex. To solve this optimization problem we follow\n",
    "\n",
    "Mettes et al.    \n",
    "**Hyperspherical prototype networks**    \n",
    "NeurIPS 2019\n",
    "https://arxiv.org/pdf/1901.10514.pdf\n",
    "\n",
    "in particular Eq. (5)."
   ]
  },
  {
   "cell_type": "code",
   "execution_count": 4,
   "id": "e332c898",
   "metadata": {},
   "outputs": [
    {
     "name": "stdout",
     "output_type": "stream",
     "text": [
      "Iteration: 05000 | Loss: 2.130779982\n",
      "Iteration: 10000 | Loss: 2.130779982\n",
      "Iteration: 15000 | Loss: 2.130779982\n",
      "Iteration: 20000 | Loss: 2.130779982\n",
      "Iteration: 25000 | Loss: 2.130779982\n",
      "Iteration: 30000 | Loss: 2.130779982\n",
      "Iteration: 35000 | Loss: 2.130779982\n",
      "Iteration: 40000 | Loss: 2.130779982\n",
      "Iteration: 45000 | Loss: 2.130779982\n",
      "Iteration: 50000 | Loss: 2.130779982\n",
      "Iteration: 55000 | Loss: 2.130779982\n",
      "Iteration: 60000 | Loss: 2.130779982\n",
      "Iteration: 65000 | Loss: 2.130779982\n",
      "Iteration: 70000 | Loss: 2.130779982\n",
      "Iteration: 75000 | Loss: 2.130779982\n",
      "Iteration: 80000 | Loss: 2.130779982\n",
      "Iteration: 85000 | Loss: 2.130779982\n",
      "Iteration: 90000 | Loss: 2.130779982\n",
      "Iteration: 95000 | Loss: 2.130779982\n",
      "Iteration: 100000 | Loss: 2.130779982\n"
     ]
    }
   ],
   "source": [
    "P = torch.randn(NUM_CLASSES, OUT_DIM)       \n",
    "P = P/P.norm(dim=1, keepdim=True)\n",
    "P.requires_grad = True\n",
    "\n",
    "L = []\n",
    "for i in range(1, 100000+1):\n",
    "    opt = torch.optim.SGD([P], lr=0.5, momentum=0.9)\n",
    "    opt.zero_grad()\n",
    "    M = torch.mm(P,P.t()) - 2.*torch.eye(NUM_CLASSES)\n",
    "    loss = torch.logsumexp(M, dim=1).mean()\n",
    "    loss.backward()\n",
    "    opt.step()\n",
    "    \n",
    "    L.append(loss.item())\n",
    "    if i % 5000 == 0:\n",
    "        print('Iteration: {:05d} | Loss: {:.9f}'.format(\n",
    "            i, loss.item()))\n",
    "\n",
    "    with torch.no_grad():\n",
    "        P.data = P.data/P.data.norm(dim=1, keepdim=True)    \n",
    "    \n",
    "    P.requires_grad = True"
   ]
  },
  {
   "cell_type": "markdown",
   "id": "c8d22fc1",
   "metadata": {},
   "source": [
    "### Some diagnostics"
   ]
  },
  {
   "cell_type": "code",
   "execution_count": 16,
   "id": "cf15f357",
   "metadata": {
    "scrolled": true
   },
   "outputs": [
    {
     "data": {
      "image/png": "[encoded data removed]",
      "text/plain": [
       "<Figure size 300x300 with 1 Axes>"
      ]
     },
     "metadata": {},
     "output_type": "display_data"
    }
   ],
   "source": [
    "A = np.zeros((NUM_CLASSES, NUM_CLASSES))\n",
    "for i in range(NUM_CLASSES):\n",
    "    for j in range(NUM_CLASSES):\n",
    "        A[i,j] = torch.acos(torch.dot(P[i,:],P[j,:])).item()\n",
    "plt.figure(figsize=(3,3))\n",
    "plt.boxplot(A[~np.isnan(A)].reshape(-1));\n",
    "plt.grid()"
   ]
  },
  {
   "cell_type": "code",
   "execution_count": 24,
   "id": "90a9846a",
   "metadata": {},
   "outputs": [],
   "source": [
    "assert torch.isnan(P).sum().item() == 0\n",
    "assert torch.isinf(P).sum().item() == 0"
   ]
  },
  {
   "cell_type": "code",
   "execution_count": 9,
   "id": "c412d809",
   "metadata": {},
   "outputs": [
    {
     "data": {
      "image/png": "[encoded data removed]",
      "text/plain": [
       "<Figure size 500x200 with 1 Axes>"
      ]
     },
     "metadata": {},
     "output_type": "display_data"
    }
   ],
   "source": [
    "plt.figure(figsize=(5,2))\n",
    "plt.plot(L,linewidth=3)\n",
    "plt.xlabel('Iteration')\n",
    "plt.ylabel('Loss')\n",
    "plt.grid();"
   ]
  },
  {
   "cell_type": "markdown",
   "id": "edc05d58",
   "metadata": {},
   "source": [
    "### Save prototypes"
   ]
  },
  {
   "cell_type": "code",
   "execution_count": 14,
   "id": "57e53b92",
   "metadata": {},
   "outputs": [
    {
     "name": "stdout",
     "output_type": "stream",
     "text": [
      "torch.Size([10, 128])\n",
      "torch.Size([10, 128])\n"
     ]
    }
   ],
   "source": [
    "print(P.size())\n",
    "torch.save(P, os.path.join(PROTOTYPE_DIR, 'prototypes_{}_{}.pt'.format(NUM_CLASSES, OUT_DIM)))\n",
    "P = torch.load(os.path.join(PROTOTYPE_DIR, 'prototypes_{}_{}.pt'.format(NUM_CLASSES, OUT_DIM)))\n",
    "print(P.size())"
   ]
  },
  {
   "cell_type": "code",
   "execution_count": 15,
   "id": "d8d8462c",
   "metadata": {},
   "outputs": [
    {
     "name": "stdout",
     "output_type": "stream",
     "text": [
      "Theoretical Lip(f): 1.054093\n",
      "Computed Lip(f)   : 1.054093\n"
     ]
    }
   ],
   "source": [
    "print('Theoretical Lip(f): {:.6f}'.format(np.sqrt(P.size(0)/(P.size(0)-1))))\n",
    "print('Computed Lip(f)   : {:.6f}'.format(torch.linalg.svdvals(P).max().item()))"
   ]
  }
 ],
 "metadata": {
  "kernelspec": {
   "display_name": "Python 3 (ipykernel)",
   "language": "python",
   "name": "python3"
  },
  "language_info": {
   "codemirror_mode": {
    "name": "ipython",
    "version": 3
   },
   "file_extension": ".py",
   "mimetype": "text/x-python",
   "name": "python",
   "nbconvert_exporter": "python",
   "pygments_lexer": "ipython3",
   "version": "3.10.5"
  }
 },
 "nbformat": 4,
 "nbformat_minor": 5
}
